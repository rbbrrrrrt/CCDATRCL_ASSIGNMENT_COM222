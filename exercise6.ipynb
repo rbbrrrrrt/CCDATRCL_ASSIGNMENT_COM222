{
  "nbformat": 4,
  "nbformat_minor": 0,
  "metadata": {
    "colab": {
      "provenance": [],
      "authorship_tag": "ABX9TyNcknaBffqij98sdqG4cAHP",
      "include_colab_link": true
    },
    "kernelspec": {
      "name": "python3",
      "display_name": "Python 3"
    },
    "language_info": {
      "name": "python"
    }
  },
  "cells": [
    {
      "cell_type": "markdown",
      "metadata": {
        "id": "view-in-github",
        "colab_type": "text"
      },
      "source": [
        "<a href=\"https://colab.research.google.com/github/rbbrrrrrt/CCDATRCL_ASSIGNMENT_COM222/blob/main/exercise6.ipynb\" target=\"_parent\"><img src=\"https://colab.research.google.com/assets/colab-badge.svg\" alt=\"Open In Colab\"/></a>"
      ]
    },
    {
      "cell_type": "code",
      "source": [
        "class Node:\n",
        "    def __init__(self, item):\n",
        "        self.left = None\n",
        "        self.right = None\n",
        "        self.val = item"
      ],
      "metadata": {
        "id": "VPHWv3PlEbnm"
      },
      "execution_count": 11,
      "outputs": []
    },
    {
      "cell_type": "code",
      "source": [
        "def inorder(root):\n",
        "\n",
        "    if root:\n",
        "        # Traverse left\n",
        "        inorder(root.left)\n",
        "        # Traverse root\n",
        "        print(str(root.val) + \"->\", end='')\n",
        "        # Traverse right\n",
        "        inorder(root.right)\n",
        "\n",
        "def postorder(root):\n",
        "\n",
        "    if root:\n",
        "        # Traverse left\n",
        "        postorder(root.left)\n",
        "        # Traverse right\n",
        "        postorder(root.right)\n",
        "        # Traverse root\n",
        "        print(str(root.val) + \"->\", end='')\n",
        "\n",
        "def preorder(root):\n",
        "\n",
        "    if root:\n",
        "        # Traverse root\n",
        "        print(str(root.val) + \"->\", end='')\n",
        "        # Traverse left\n",
        "        preorder(root.left)\n",
        "        # Traverse right\n",
        "        preorder(root.right)"
      ],
      "metadata": {
        "id": "sCzxHfJaEeJL"
      },
      "execution_count": 12,
      "outputs": []
    },
    {
      "cell_type": "markdown",
      "source": [
        "1.  Construct Create your own company org chart and put yourself as CEO.\n"
      ],
      "metadata": {
        "id": "Rg3wrq_-EY73"
      }
    },
    {
      "cell_type": "code",
      "source": [
        "root = Node(\"CEO: Rhenier\")\n",
        "root.left = Node(\"HR: Sajol\")\n",
        "root.right = Node(\"SALES: Red\")\n",
        "root.left.left = Node(\"TRAINEE: Manjares\")\n",
        "root.right.left = Node(\"STAFF: Rimon\")\n",
        "root.right.right = Node(\"TRAINEE: Glodo\")\n"
      ],
      "metadata": {
        "id": "Ts6RmIv3EaHO"
      },
      "execution_count": 13,
      "outputs": []
    },
    {
      "cell_type": "markdown",
      "source": [
        "2. Traverse the tree in in-order traversal"
      ],
      "metadata": {
        "id": "CWV9uJxLFlBv"
      }
    },
    {
      "cell_type": "code",
      "source": [
        "print(\"Inorder Traversal: \")\n",
        "print(\"\")\n",
        "inorder(root)\n"
      ],
      "metadata": {
        "colab": {
          "base_uri": "https://localhost:8080/"
        },
        "id": "jdePwEx9FP9R",
        "outputId": "83a62d41-478f-4b19-d549-85277aa01d4a"
      },
      "execution_count": 14,
      "outputs": [
        {
          "output_type": "stream",
          "name": "stdout",
          "text": [
            "Inorder Traversal: \n",
            "\n",
            "TRAINEE: Manjares->HR: Sajol->CEO: Rhenier->STAFF: Rimon->SALES: Red->TRAINEE: Glodo->"
          ]
        }
      ]
    },
    {
      "cell_type": "markdown",
      "source": [
        "3. Traverse the tree in pre-order traversal"
      ],
      "metadata": {
        "id": "bC0kG6CxGTHJ"
      }
    },
    {
      "cell_type": "code",
      "source": [
        "print(\"Pre-order Traversal: \")\n",
        "print(\"\")\n",
        "preorder(root)\n"
      ],
      "metadata": {
        "colab": {
          "base_uri": "https://localhost:8080/"
        },
        "id": "_IqZAdC_GWBR",
        "outputId": "9de78e1d-64ce-4055-d3c0-60018b00b6d8"
      },
      "execution_count": 15,
      "outputs": [
        {
          "output_type": "stream",
          "name": "stdout",
          "text": [
            "Pre-order Traversal: \n",
            "\n",
            "CEO: Rhenier->HR: Sajol->TRAINEE: Manjares->SALES: Red->STAFF: Rimon->TRAINEE: Glodo->"
          ]
        }
      ]
    },
    {
      "cell_type": "markdown",
      "source": [
        "4. Traverse the tree in post-order traversal"
      ],
      "metadata": {
        "id": "_mxJ_ea-GZVJ"
      }
    },
    {
      "cell_type": "code",
      "source": [
        "print(\"Post-order Traversal: \")\n",
        "print(\"\")\n",
        "postorder(root)\n"
      ],
      "metadata": {
        "colab": {
          "base_uri": "https://localhost:8080/"
        },
        "id": "crNfj7l1Gbnx",
        "outputId": "04aac84b-d865-4bf3-d395-aef7515d6214"
      },
      "execution_count": 16,
      "outputs": [
        {
          "output_type": "stream",
          "name": "stdout",
          "text": [
            "Post-order Traversal: \n",
            "\n",
            "TRAINEE: Manjares->HR: Sajol->STAFF: Rimon->TRAINEE: Glodo->SALES: Red->CEO: Rhenier->"
          ]
        }
      ]
    }
  ]
}