{
  "nbformat": 4,
  "nbformat_minor": 0,
  "metadata": {
    "colab": {
      "provenance": [],
      "authorship_tag": "ABX9TyOkWY+t5KNjwXJPSJ2pQS5i",
      "include_colab_link": true
    },
    "kernelspec": {
      "name": "python3",
      "display_name": "Python 3"
    },
    "language_info": {
      "name": "python"
    }
  },
  "cells": [
    {
      "cell_type": "markdown",
      "metadata": {
        "id": "view-in-github",
        "colab_type": "text"
      },
      "source": [
        "<a href=\"https://colab.research.google.com/github/rbbrrrrrt/CCDATRCL_ASSIGNMENT_COM222/blob/main/exercise5.ipynb\" target=\"_parent\"><img src=\"https://colab.research.google.com/assets/colab-badge.svg\" alt=\"Open In Colab\"/></a>"
      ]
    },
    {
      "cell_type": "markdown",
      "source": [
        "1. Create a dictionary of your 10 favorite songs."
      ],
      "metadata": {
        "id": "21qTzCkenH3c"
      }
    },
    {
      "cell_type": "code",
      "execution_count": 2,
      "metadata": {
        "colab": {
          "base_uri": "https://localhost:8080/"
        },
        "id": "Pl51IByal79_",
        "outputId": "bff8d640-09f2-4706-fd76-fd7206677058"
      },
      "outputs": [
        {
          "output_type": "stream",
          "name": "stdout",
          "text": [
            "{'001': 'the 1', '002': 'cardigan', '003': 'Facebook friends', '004': 'Anaheim', '005': 'betty', '006': 'Autumn', '007': '3005', '008': 'DOGTOOTH', '009': 'The Spins', '010': \"Kevin's Heart\"}\n"
          ]
        }
      ],
      "source": [
        "mydictionary = {\n",
        "  \"001\": \"the 1\",\n",
        "  \"002\": \"cardigan\",\n",
        "  \"003\": \"Facebook Friends\",\n",
        "  \"004\": \"Anaheim\",\n",
        "  \"005\": \"betty\",\n",
        "  \"006\": \"Autumn\",\n",
        "  \"007\": \"3005\",\n",
        "  \"008\": \"DOGTOOTH\",\n",
        "  \"009\": \"The Spins\",\n",
        "  \"010\": \"Kevin's Heart\"\n",
        "}\n",
        "print(mydictionary)"
      ]
    },
    {
      "cell_type": "markdown",
      "source": [
        "2. Loop through the dictionary by its key and value"
      ],
      "metadata": {
        "id": "shSbDMl3pvBO"
      }
    },
    {
      "cell_type": "code",
      "source": [
        "for i, j in mydictionary.items():\n",
        "  print(i, j)"
      ],
      "metadata": {
        "colab": {
          "base_uri": "https://localhost:8080/"
        },
        "id": "DZ_w2HJrot3S",
        "outputId": "299cdc73-7cbd-4525-9d63-6d733492caaa"
      },
      "execution_count": 6,
      "outputs": [
        {
          "output_type": "stream",
          "name": "stdout",
          "text": [
            "001 the 1\n",
            "002 cardigan\n",
            "003 Facebook friends\n",
            "004 Anaheim\n",
            "005 betty\n",
            "006 Autumn\n",
            "007 3005\n",
            "008 DOGTOOTH\n",
            "009 The Spins\n",
            "010 Kevin's Heart\n"
          ]
        }
      ]
    },
    {
      "cell_type": "markdown",
      "source": [
        "3. Add one additional song"
      ],
      "metadata": {
        "id": "vkNNLjEYp1py"
      }
    },
    {
      "cell_type": "code",
      "source": [
        "mydictionary[\"011\"] = \"WUSYANAME\"\n",
        "mydictionary"
      ],
      "metadata": {
        "colab": {
          "base_uri": "https://localhost:8080/"
        },
        "id": "PQciywvKp6fZ",
        "outputId": "4dc5af4c-3e96-4c0b-866c-3e86953bef46"
      },
      "execution_count": 11,
      "outputs": [
        {
          "output_type": "execute_result",
          "data": {
            "text/plain": [
              "{'001': 'the 1',\n",
              " '002': 'cardigan',\n",
              " '003': 'Facebook friends',\n",
              " '004': 'Anaheim',\n",
              " '005': 'betty',\n",
              " '006': 'Autumn',\n",
              " '007': '3005',\n",
              " '009': 'The Spins',\n",
              " '010': \"Kevin's Heart\",\n",
              " '011': 'WUSYANAME'}"
            ]
          },
          "metadata": {},
          "execution_count": 11
        }
      ]
    },
    {
      "cell_type": "code",
      "source": [
        "mydictionary.pop(\"008\")\n",
        "mydictionary\n",
        "\n"
      ],
      "metadata": {
        "colab": {
          "base_uri": "https://localhost:8080/"
        },
        "id": "I_z_jl_fqkxv",
        "outputId": "04b2b922-d2e2-48cb-c47a-f47b9452ca42"
      },
      "execution_count": 10,
      "outputs": [
        {
          "output_type": "execute_result",
          "data": {
            "text/plain": [
              "{'001': 'the 1',\n",
              " '002': 'cardigan',\n",
              " '003': 'Facebook friends',\n",
              " '004': 'Anaheim',\n",
              " '005': 'betty',\n",
              " '006': 'Autumn',\n",
              " '007': '3005',\n",
              " '009': 'The Spins',\n",
              " '010': \"Kevin's Heart\",\n",
              " '011': 'WUSYANAME'}"
            ]
          },
          "metadata": {},
          "execution_count": 10
        }
      ]
    },
    {
      "cell_type": "markdown",
      "source": [
        "5. Create a nested dictionary of your 10 favorite songs with 5 genres. Display all of the items of the nested dictionary"
      ],
      "metadata": {
        "id": "sl8DtAkSuCOD"
      }
    },
    {
      "cell_type": "code",
      "source": [
        "mydictionary = {\n",
        "    \"Pop\" : {\n",
        "        \"001\" : \"How You Get The Girl\",\n",
        "        \"002\" : \"King Of My Heart\"\n",
        "    },\n",
        "    \"RnB\" : {\n",
        "        \"001\" : \"wish that i could\",\n",
        "        \"002\" : \"Dance\"\n",
        "    },\n",
        "    \"K-Hiphop\" : {\n",
        "        \"001\" : \"Wu\",\n",
        "        \"002\" : \"Jasmine\"\n",
        "    },\n",
        "    \"Country\" : {\n",
        "            \"001\" : \"Forever & Always\",\n",
        "            \"002\" : \"Speak Now\"\n",
        "    },\n",
        "    \"KPOP\" : {\n",
        "         \"001\" : \"La vie en rose\",\n",
        "         \"002\" : \"Kidult\"\n",
        "    }\n",
        "}\n",
        "mydictionary"
      ],
      "metadata": {
        "colab": {
          "base_uri": "https://localhost:8080/"
        },
        "id": "Fwe9QFnzuFlJ",
        "outputId": "566082ef-f70c-4756-8367-95f56ea52551"
      },
      "execution_count": 13,
      "outputs": [
        {
          "output_type": "execute_result",
          "data": {
            "text/plain": [
              "{'Pop': {'001': 'How You Get The Girl', '002': 'King Of My Heart'},\n",
              " 'RnB': {'001': 'wish that i could', '002': 'Dance'},\n",
              " 'K-Hiphop': {'001': 'Wu', '002': 'Jasmine'},\n",
              " 'Country': {'001': 'Forever & Always', '002': 'Speak Now'},\n",
              " 'KPOP': {'001': 'La vie en rose', '002': 'Kidult'}}"
            ]
          },
          "metadata": {},
          "execution_count": 13
        }
      ]
    },
    {
      "cell_type": "markdown",
      "source": [
        "6. Print the first song of the first genre"
      ],
      "metadata": {
        "id": "QP1gch5hy39v"
      }
    },
    {
      "cell_type": "code",
      "source": [
        "print(mydictionary[\"Pop\"][\"001\"])"
      ],
      "metadata": {
        "colab": {
          "base_uri": "https://localhost:8080/"
        },
        "id": "7w14bA6jy7s1",
        "outputId": "2d86e85e-675a-45dc-a935-0680c0e5cbd1"
      },
      "execution_count": 14,
      "outputs": [
        {
          "output_type": "stream",
          "name": "stdout",
          "text": [
            "How You Get The Girl\n"
          ]
        }
      ]
    },
    {
      "cell_type": "markdown",
      "source": [
        "7. Print the first song of the last genre"
      ],
      "metadata": {
        "id": "2UnIu6YEzQ7l"
      }
    },
    {
      "cell_type": "code",
      "source": [
        "print(mydictionary[\"KPOP\"][\"001\"])"
      ],
      "metadata": {
        "colab": {
          "base_uri": "https://localhost:8080/"
        },
        "id": "pxQv_i1ozUxA",
        "outputId": "b1ed4813-ba36-4413-e6e6-973a5d05e739"
      },
      "execution_count": 15,
      "outputs": [
        {
          "output_type": "stream",
          "name": "stdout",
          "text": [
            "La vie en rose\n"
          ]
        }
      ]
    }
  ]
}