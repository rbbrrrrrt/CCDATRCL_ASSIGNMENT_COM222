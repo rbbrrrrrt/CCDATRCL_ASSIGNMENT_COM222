{
 "cells": [
  {
   "cell_type": "markdown",
   "metadata": {},
   "source": [
    "**PRE-DEFINED STACK FUNCTIONS**"
   ]
  },
  {
   "cell_type": "code",
   "execution_count": 197,
   "metadata": {},
   "outputs": [],
   "source": [
    "# Creating a stack\n",
    "def create_stack():\n",
    "    stack = []\n",
    "    return stack\n",
    "\n",
    "def print_stack(stack):\n",
    "\n",
    "    if (check_empty(stack)):\n",
    "            return \"stack is empty\"\n",
    "\n",
    "    # Create a copy of the stack and reverse the elements\n",
    "    tempStack = stack.copy()\n",
    "    tempStack.reverse()\n",
    "\n",
    "    # Print all elements using a loop\n",
    "    for i in tempStack:\n",
    "        print(i)\n",
    "\n",
    "    # Delete the copy to free up memory\n",
    "    del tempStack\n",
    "\n",
    "# Creating an empty stack\n",
    "def check_empty(stack):\n",
    "    return len(stack) == 0\n",
    "\n",
    "\n",
    "# Adding items into the stack\n",
    "def push(stack, item):\n",
    "    stack.append(item)\n",
    "    print(\"pushed item: \", item)\n",
    "\n",
    "\n",
    "# Removing an element from the stack\n",
    "def pop(stack):\n",
    "    if (check_empty(stack)):\n",
    "        return \"stack is empty\"\n",
    "\n",
    "    return stack.pop()\n",
    "\n",
    "def peek(stack):\n",
    "\n",
    "    # Use negative indexing to display the last element of the list\n",
    "    print(stack[-1])"
   ]
  },
  {
   "cell_type": "markdown",
   "metadata": {},
   "source": [
    "## **1. CREATE A BURGER STACK**"
   ]
  },
  {
   "cell_type": "code",
   "execution_count": 198,
   "metadata": {},
   "outputs": [
    {
     "name": "stdout",
     "output_type": "stream",
     "text": [
      "pushed item:  Bun\n",
      "pushed item:  Patty\n",
      "pushed item:  Cheese\n",
      "pushed item:  Lettuce\n",
      "pushed item:  Tomato\n",
      "pushed item:  Bun\n"
     ]
    }
   ],
   "source": [
    "burger_stack = create_stack()\n",
    "\n",
    "push(burger_stack, \"Bun\")\n",
    "push(burger_stack, \"Patty\")\n",
    "push(burger_stack, \"Cheese\")\n",
    "push(burger_stack, \"Lettuce\")\n",
    "push(burger_stack, \"Tomato\")\n",
    "push(burger_stack, \"Bun\")"
   ]
  },
  {
   "cell_type": "code",
   "execution_count": 199,
   "metadata": {},
   "outputs": [
    {
     "name": "stdout",
     "output_type": "stream",
     "text": [
      "Bun\n",
      "Tomato\n",
      "Lettuce\n",
      "Cheese\n",
      "Patty\n",
      "Bun\n"
     ]
    }
   ],
   "source": [
    "print_stack(burger_stack)"
   ]
  },
  {
   "cell_type": "markdown",
   "metadata": {},
   "source": [
    "## **2. REVERSE A STRING USING STACK**"
   ]
  },
  {
   "cell_type": "code",
   "execution_count": 200,
   "metadata": {},
   "outputs": [
    {
     "name": "stdout",
     "output_type": "stream",
     "text": [
      "pushed item:  R\n",
      "pushed item:  E\n",
      "pushed item:  I\n",
      "pushed item:  N\n",
      "pushed item:  E\n",
      "pushed item:  H\n",
      "pushed item:  R\n"
     ]
    }
   ],
   "source": [
    "name_stack = ['R', 'H', 'E', 'N', 'I', 'E', 'R']\n",
    "\n",
    "reveresed_stack = []\n",
    "\n",
    "while len(name_stack) > 0:\n",
    "\n",
    "    push(reveresed_stack, pop(name_stack))\n",
    "\n",
    "    "
   ]
  },
  {
   "cell_type": "code",
   "execution_count": 201,
   "metadata": {},
   "outputs": [
    {
     "name": "stdout",
     "output_type": "stream",
     "text": [
      "['R', 'E', 'I', 'N', 'E', 'H', 'R'] "
     ]
    }
   ],
   "source": [
    "print(reveresed_stack, end = \" \")"
   ]
  },
  {
   "cell_type": "markdown",
   "metadata": {},
   "source": [
    "## **3. REMOVE ELEMENTS USING STACK**"
   ]
  },
  {
   "cell_type": "code",
   "execution_count": 202,
   "metadata": {},
   "outputs": [
    {
     "name": "stdout",
     "output_type": "stream",
     "text": [
      "pushed item:  2\n",
      "pushed item:  4\n",
      "pushed item:  6\n",
      "pushed item:  8\n",
      "pushed item:  10\n"
     ]
    }
   ],
   "source": [
    "numbers = create_stack()\n",
    "\n",
    "numbers = [1,2,3,4,5,6,7,8,9,10]\n",
    "\n",
    "new_stack = []\n",
    "\n",
    "for i in numbers:\n",
    "    if i % 2 == 0:\n",
    "        temp = i\n",
    "        push(new_stack, temp)"
   ]
  },
  {
   "cell_type": "code",
   "execution_count": 203,
   "metadata": {},
   "outputs": [
    {
     "name": "stdout",
     "output_type": "stream",
     "text": [
      "[2, 4, 6, 8, 10]\n"
     ]
    }
   ],
   "source": [
    "print(new_stack)"
   ]
  },
  {
   "cell_type": "markdown",
   "metadata": {},
   "source": [
    "## **4. INSERTING ELEMENTS INTO A STACK**"
   ]
  },
  {
   "cell_type": "code",
   "execution_count": 204,
   "metadata": {},
   "outputs": [
    {
     "name": "stdout",
     "output_type": "stream",
     "text": [
      "pushed item:  E\n",
      "pushed item:  I\n",
      "pushed item:  O\n",
      "['E', 'I', 'O']\n"
     ]
    }
   ],
   "source": [
    "my_stack = create_stack()\n",
    "\n",
    "my_stack = ['E', 'L', 'I', 'Z', 'E', 'R', 'P', 'O', 'N', 'I', 'O', 'J', 'R']\n",
    "\n",
    "vowels = ['A', 'a', 'E', 'e', 'I', 'i', 'O', 'o', 'U', 'u']\n",
    "\n",
    "empty_stack = []\n",
    "\n",
    "for i in my_stack:\n",
    "\n",
    "    if i in vowels:\n",
    "      \n",
    "        if i not in empty_stack:\n",
    "            \n",
    "            push(empty_stack, i)\n",
    "\n",
    "print (empty_stack)"
   ]
  },
  {
   "cell_type": "markdown",
   "metadata": {},
   "source": [
    "## **5. SORT ELEMENTS IN A STACK**"
   ]
  },
  {
   "cell_type": "code",
   "execution_count": 205,
   "metadata": {},
   "outputs": [
    {
     "name": "stdout",
     "output_type": "stream",
     "text": [
      "pushed item:  2\n",
      "pushed item:  2\n",
      "pushed item:  1\n",
      "pushed item:  2\n",
      "pushed item:  3\n",
      "[1, 2, 3]\n"
     ]
    }
   ],
   "source": [
    "\n",
    "\n",
    "number_stack = [3, 1, 2]\n",
    "\n",
    "sorted_stack = []\n",
    "\n",
    "def sort(number_stack, sorted_stack):\n",
    "\n",
    "    while check_empty(number_stack) is False:\n",
    "\n",
    "        popped_number_stack = pop(number_stack)\n",
    "\n",
    "        for i in sorted_stack:\n",
    "\n",
    "            if i > popped_number_stack:\n",
    "\n",
    "                popped_sorted_stack = pop(sorted_stack)\n",
    "\n",
    "                push(number_stack, popped_sorted_stack)\n",
    "\n",
    "        push(sorted_stack, popped_number_stack)    \n",
    "\n",
    "sort(number_stack, sorted_stack)\n",
    "\n",
    "print(sorted_stack)\n"
   ]
  }
 ],
 "metadata": {
  "kernelspec": {
   "display_name": "Python 3",
   "language": "python",
   "name": "python3"
  },
  "language_info": {
   "codemirror_mode": {
    "name": "ipython",
    "version": 3
   },
   "file_extension": ".py",
   "mimetype": "text/x-python",
   "name": "python",
   "nbconvert_exporter": "python",
   "pygments_lexer": "ipython3",
   "version": "3.11.5"
  },
  "orig_nbformat": 4
 },
 "nbformat": 4,
 "nbformat_minor": 2
}
