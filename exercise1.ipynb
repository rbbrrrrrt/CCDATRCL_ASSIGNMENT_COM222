{
 "cells": [
  {
   "cell_type": "markdown",
   "metadata": {},
   "source": [
    "## **SINGLY LINKED LIST**"
   ]
  },
  {
   "cell_type": "code",
   "execution_count": 26,
   "metadata": {},
   "outputs": [],
   "source": [
    "class Node:\n",
    "\n",
    "    def __init__(self, data):\n",
    "        self.data = data\n",
    "        self.next = None\n",
    "        "
   ]
  },
  {
   "cell_type": "code",
   "execution_count": 27,
   "metadata": {},
   "outputs": [],
   "source": [
    "class LinkedList:\n",
    "    \n",
    "    def __init__(self):\n",
    "        self.head = None\n",
    "        \n",
    "    def traverse(self, node):\n",
    "        while node:\n",
    "            print(node.data, end=\" -> \")\n",
    "            node = node.next"
   ]
  },
  {
   "cell_type": "code",
   "execution_count": 28,
   "metadata": {},
   "outputs": [],
   "source": [
    "linked_list = LinkedList()"
   ]
  },
  {
   "cell_type": "code",
   "execution_count": 29,
   "metadata": {},
   "outputs": [],
   "source": [
    "linked_list.head = Node(\"Liporada\")\n",
    "node_2nd = Node(\"Manjares\")\n",
    "node_3rd = Node(\"Glodo\")\n",
    "node_4th = Node(\"Rimon\")\n",
    "node_5th = Node(\"Sajol\")\n"
   ]
  },
  {
   "cell_type": "code",
   "execution_count": 30,
   "metadata": {},
   "outputs": [],
   "source": [
    "linked_list.head.next = node_2nd\n",
    "node_2nd.next = node_3rd\n",
    "node_3rd.next = node_4th\n",
    "node_4th.next = node_5th"
   ]
  },
  {
   "cell_type": "code",
   "execution_count": 31,
   "metadata": {},
   "outputs": [
    {
     "name": "stdout",
     "output_type": "stream",
     "text": [
      "Liporada -> Manjares -> Glodo -> Rimon -> Sajol -> "
     ]
    }
   ],
   "source": [
    "linked_list.traverse(linked_list.head)"
   ]
  },
  {
   "cell_type": "markdown",
   "metadata": {},
   "source": [
    "## **DOUBLY LINKED LIST**"
   ]
  },
  {
   "cell_type": "code",
   "execution_count": 32,
   "metadata": {},
   "outputs": [],
   "source": [
    "class Node:\n",
    "\n",
    "    def __init__(self, data):\n",
    "        self.data = data\n",
    "        self.next = None\n",
    "        self.prev = None"
   ]
  },
  {
   "cell_type": "code",
   "execution_count": 33,
   "metadata": {},
   "outputs": [],
   "source": [
    "class DoublyLinkedList:\n",
    "    \n",
    "    def __init__(self):\n",
    "        self.head = None\n",
    "        \n",
    "    def traverse(self, node):\n",
    "        while node:\n",
    "            print(node.data, end=\" -> \")\n",
    "            node = node.next\n",
    "\n",
    "    def traverse_in_reverse_order(self, node):\n",
    "        while node:\n",
    "            print(node.data, end=\" -> \")\n",
    "            node = node.prev"
   ]
  },
  {
   "cell_type": "code",
   "execution_count": 34,
   "metadata": {},
   "outputs": [],
   "source": [
    "doubly_linked_list = DoublyLinkedList()"
   ]
  },
  {
   "cell_type": "code",
   "execution_count": 35,
   "metadata": {},
   "outputs": [],
   "source": [
    "doubly_linked_list.head = Node(\"Liporada\")\n",
    "node_2nd = Node(\"Manjares\")\n",
    "node_3rd = Node(\"Glodo\")\n",
    "node_4th = Node(\"Rimon\")\n",
    "node_5th = Node(\"Sajol\")"
   ]
  },
  {
   "cell_type": "code",
   "execution_count": 36,
   "metadata": {},
   "outputs": [],
   "source": [
    "doubly_linked_list.head.prev = None\n",
    "doubly_linked_list.head.next = node_2nd\n",
    "\n",
    "node_2nd.prev = doubly_linked_list.head\n",
    "node_2nd.next = node_3rd\n",
    "\n",
    "node_3rd.prev = node_2nd\n",
    "node_3rd.next = node_4th\n",
    "\n",
    "node_4th.prev = node_3rd\n",
    "node_4th.next = node_5th\n",
    "\n",
    "node_5th.prev = node_4th\n",
    "node_5th.next = None"
   ]
  },
  {
   "cell_type": "markdown",
   "metadata": {},
   "source": [
    "Traverse"
   ]
  },
  {
   "cell_type": "code",
   "execution_count": 37,
   "metadata": {},
   "outputs": [
    {
     "name": "stdout",
     "output_type": "stream",
     "text": [
      "Liporada -> Manjares -> Glodo -> Rimon -> Sajol -> "
     ]
    }
   ],
   "source": [
    "doubly_linked_list.traverse(doubly_linked_list.head)"
   ]
  },
  {
   "cell_type": "markdown",
   "metadata": {},
   "source": [
    "Traverse in reverse"
   ]
  },
  {
   "cell_type": "code",
   "execution_count": 38,
   "metadata": {},
   "outputs": [
    {
     "name": "stdout",
     "output_type": "stream",
     "text": [
      "Sajol -> Rimon -> Glodo -> Manjares -> Liporada -> "
     ]
    }
   ],
   "source": [
    "doubly_linked_list.traverse_in_reverse_order(node_5th)"
   ]
  },
  {
   "cell_type": "markdown",
   "metadata": {},
   "source": [
    "## **CIRCULAR LINKED LIST**"
   ]
  },
  {
   "cell_type": "code",
   "execution_count": 39,
   "metadata": {},
   "outputs": [],
   "source": [
    "class Node:\n",
    "    def __init__(self, data):\n",
    "        self.data = data\n",
    "        self.next = None"
   ]
  },
  {
   "cell_type": "code",
   "execution_count": 40,
   "metadata": {},
   "outputs": [],
   "source": [
    "class CircularLinkedList:\n",
    "\n",
    "    def __init__(self):\n",
    "        self.head = None\n",
    "\n",
    "    def traverse(self, node):\n",
    "        \n",
    "        head = node\n",
    "        \n",
    "        while node:\n",
    "            print(node.data, end=\" -> \")\n",
    "            node = node.next\n",
    "            \n",
    "        \n",
    "            if node == head:\n",
    "                break"
   ]
  },
  {
   "cell_type": "code",
   "execution_count": 41,
   "metadata": {},
   "outputs": [],
   "source": [
    "circular_linked_list = CircularLinkedList()"
   ]
  },
  {
   "cell_type": "code",
   "execution_count": 42,
   "metadata": {},
   "outputs": [],
   "source": [
    "circular_linked_list.head =  Node(\"Liporada\")\n",
    "node_2nd = Node(\"Manjares\")\n",
    "node_3rd = Node(\"Glodo\")\n",
    "node_4th = Node(\"Rimon\")\n",
    "node_5th = Node(\"Sajol\")"
   ]
  },
  {
   "cell_type": "code",
   "execution_count": 43,
   "metadata": {},
   "outputs": [],
   "source": [
    "circular_linked_list.head.next = node_2nd\n",
    "node_2nd.next = node_3rd\n",
    "node_3rd.next = node_4th\n",
    "node_4th.next = node_5th\n",
    "node_5th.next = circular_linked_list.head"
   ]
  },
  {
   "cell_type": "code",
   "execution_count": 44,
   "metadata": {},
   "outputs": [
    {
     "name": "stdout",
     "output_type": "stream",
     "text": [
      "Liporada -> Manjares -> Glodo -> Rimon -> Sajol -> "
     ]
    }
   ],
   "source": [
    "circular_linked_list.traverse(circular_linked_list.head)"
   ]
  }
 ],
 "metadata": {
  "kernelspec": {
   "display_name": "Python 3",
   "language": "python",
   "name": "python3"
  },
  "language_info": {
   "codemirror_mode": {
    "name": "ipython",
    "version": 3
   },
   "file_extension": ".py",
   "mimetype": "text/x-python",
   "name": "python",
   "nbconvert_exporter": "python",
   "pygments_lexer": "ipython3",
   "version": "3.11.5"
  },
  "orig_nbformat": 4
 },
 "nbformat": 4,
 "nbformat_minor": 2
}
