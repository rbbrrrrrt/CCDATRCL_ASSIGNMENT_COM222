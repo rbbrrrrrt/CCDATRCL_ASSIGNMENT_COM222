{
 "cells": [
  {
   "cell_type": "markdown",
   "metadata": {},
   "source": [
    "## **PRE-DEFINED SORTING ALGORITHMS**"
   ]
  },
  {
   "cell_type": "code",
   "execution_count": 215,
   "metadata": {},
   "outputs": [],
   "source": [
    "def mergeSort(array):\n",
    "    if len(array) > 1:\n",
    "        counter = 0\n",
    "        #  r is the point where the array is divided into two subarrays\n",
    "        r = len(array)//2\n",
    "        L = array[:r]\n",
    "        M = array[r:]\n",
    "        counter += 1\n",
    "        # Sort the two halves\n",
    "        mergeSort(L)\n",
    "        mergeSort(M)\n",
    "        \n",
    "        i = j = k = 0\n",
    "        counter += 1\n",
    "        # Until we reach either end of either L or M, pick larger among\n",
    "        # elements L and M and place them in the correct position at A[p..r]\n",
    "        while i < len(L) and j < len(M):\n",
    "            if L[i] < M[j]:\n",
    "                array[k] = L[i]\n",
    "                i += 1\n",
    "                counter += 1\n",
    "            else:\n",
    "                array[k] = M[j]\n",
    "                j += 1\n",
    "            k += 1\n",
    "            counter += 1\n",
    "\n",
    "        # When we run out of elements in either L or M,\n",
    "        # pick up the remaining elements and put in A[p..r]\n",
    "        while i < len(L):\n",
    "            array[k] = L[i]\n",
    "            i += 1\n",
    "            k += 1\n",
    "            counter += 1\n",
    "        while j < len(M):\n",
    "            array[k] = M[j]\n",
    "            j += 1\n",
    "            k += 1\n",
    "            counter += 1\n",
    "        return counter       \n",
    "# Print the array\n",
    "def printList(array):\n",
    "    for i in range(len(array)):\n",
    "        print(array[i], end=\" \")\n",
    "    print()"
   ]
  },
  {
   "cell_type": "code",
   "execution_count": 216,
   "metadata": {},
   "outputs": [],
   "source": [
    "def countingSort(array):\n",
    "    step = 0\n",
    "    size = len(array)\n",
    "    output = [0] * size\n",
    "\n",
    "    # Initialize count array\n",
    "    count = [0] * 10\n",
    "\n",
    "    # Store the count of each elements in count array\n",
    "    for i in range(0, size):\n",
    "        count[array[i]] += 1\n",
    "\n",
    "    # Store the cummulative count\n",
    "    for i in range(1, 10):\n",
    "        count[i] += count[i - 1]\n",
    "\n",
    "    # Find the index of each element of the original array in count array\n",
    "    # place the elements in output array\n",
    "    i = size - 1\n",
    "    while i >= 0:\n",
    "        output[count[array[i]] - 1] = array[i]\n",
    "        count[array[i]] -= 1\n",
    "        i -= 1\n",
    "        step += 1\n",
    "    # Copy the sorted elements into original array\n",
    "    for i in range(0, size):\n",
    "        array[i] = output[i]\n",
    "    return step    "
   ]
  },
  {
   "cell_type": "code",
   "execution_count": 217,
   "metadata": {},
   "outputs": [],
   "source": [
    "def insertionSort(array):\n",
    "    count = 0\n",
    "    for step in range(1, len(array)):\n",
    "        key = array[step]\n",
    "        j = step - 1\n",
    "\n",
    "        # Compare key with each element on the left of it until an element smaller than it is found\n",
    "        # For descending order, change key<array[j] to key>array[j].\n",
    "        while j >= 0 and key < array[j]:\n",
    "            array[j + 1] = array[j]\n",
    "            j = j - 1\n",
    "            count += 1\n",
    "\n",
    "        # Place key at after the element just smaller than it.\n",
    "        array[j + 1] = key\n",
    "        count += 1\n",
    "    return count    "
   ]
  },
  {
   "cell_type": "code",
   "execution_count": 218,
   "metadata": {},
   "outputs": [],
   "source": [
    "# Bubble sort in Python\n",
    "def bubbleSort(array):\n",
    "  swaps = 0\n",
    "  # loop to access each array element\n",
    "  for i in range(len(array)):\n",
    "\n",
    "    # loop to compare array elements\n",
    "    for j in range(0, len(array) - i - 1):\n",
    "\n",
    "      # compare two adjacent elements\n",
    "      # change > to < to sort in descending order\n",
    "      if array[j] > array[j + 1]:\n",
    "\n",
    "        # swapping elements if elements\n",
    "        # are not in the intended order\n",
    "        \n",
    "        swaps += 1\n",
    "        temp = array[j]\n",
    "        array[j] = array[j+1]\n",
    "        array[j+1] = temp\n",
    "  return swaps       "
   ]
  },
  {
   "cell_type": "markdown",
   "metadata": {},
   "source": [
    "**1. Sort your student number in ascending order**"
   ]
  },
  {
   "cell_type": "code",
   "execution_count": 219,
   "metadata": {},
   "outputs": [
    {
     "name": "stdout",
     "output_type": "stream",
     "text": [
      "Sorted list:  [0, 0, 0, 1, 1, 2, 2, 2, 4, 7]\n"
     ]
    }
   ],
   "source": [
    "studnum = [2,0,2,2,1,0,7,4,1,0]\n",
    "\n",
    "bubbleSort(studnum)\n",
    "\n",
    "print(\"Sorted list: \", studnum)"
   ]
  },
  {
   "cell_type": "markdown",
   "metadata": {},
   "source": [
    "**2. Sort the dates in ascending order.**"
   ]
  },
  {
   "cell_type": "code",
   "execution_count": 220,
   "metadata": {},
   "outputs": [
    {
     "name": "stdout",
     "output_type": "stream",
     "text": [
      "Sorted date:  ['03-14-2004', '01-01-2023', '12-25-2023']\n"
     ]
    }
   ],
   "source": [
    "def date_to_int(string_date):\n",
    "    parts = string_date.split(\"-\")\n",
    "    return int(parts[2] + parts[0].zfill(2) + parts[1].zfill(0))\n",
    "\n",
    "def DateInserstionSort(array):\n",
    "    for step in range(1, len(array)):\n",
    "        key = array[step]\n",
    "        j = step - 1\n",
    "\n",
    "\n",
    "        int_key = date_to_int(key)\n",
    "\n",
    "        while j >= 0 and int_key < date_to_int(array[j]):\n",
    "            array[j + 1] = array[j]\n",
    "            j = j - 1\n",
    "\n",
    "\n",
    "        array[j + 1] = key\n",
    "\n",
    "\n",
    "birthday = \"03-14-2004\"\n",
    "\n",
    "date = [\"12-25-2023\", birthday, \"01-01-2023\"]\n",
    "\n",
    "DateInserstionSort(date)\n",
    "\n",
    "print(\"Sorted date: \", date)"
   ]
  },
  {
   "cell_type": "markdown",
   "metadata": {},
   "source": [
    "**3. Count the total number of swaps to sort the list below using Bubble Sort**"
   ]
  },
  {
   "cell_type": "code",
   "execution_count": 221,
   "metadata": {},
   "outputs": [
    {
     "name": "stdout",
     "output_type": "stream",
     "text": [
      "\n",
      "Sorted list: [1, 2, 3, 4, 5]\n",
      "Total number of swaps: 5\n",
      "\n"
     ]
    }
   ],
   "source": [
    "num = [3, 2, 5, 1, 4]\n",
    "\n",
    "swap = (bubbleSort(num))\n",
    "\n",
    "totalswaps = f\"\"\"\n",
    "Sorted list: {num}\n",
    "Total number of swaps: {swap}\n",
    "\"\"\"\n",
    "\n",
    "print(totalswaps)"
   ]
  },
  {
   "cell_type": "markdown",
   "metadata": {},
   "source": [
    "**4. Count the total number of steps to sort the list below using Insertion Sort**"
   ]
  },
  {
   "cell_type": "code",
   "execution_count": 222,
   "metadata": {},
   "outputs": [
    {
     "name": "stdout",
     "output_type": "stream",
     "text": [
      "\n",
      "Sorted List: [1, 2, 3, 4, 5, 6, 7, 8, 9]\n",
      "Total steps: 24\n",
      "\n"
     ]
    }
   ],
   "source": [
    "nums = [6, 2, 5, 7, 4, 1, 8, 9, 3]\n",
    "\n",
    "steps = insertionSort(nums)\n",
    "\n",
    "totalsteps = f\"\"\"\n",
    "Sorted List: {nums}\n",
    "Total steps: {steps}\n",
    "\"\"\"\n",
    "print(totalsteps)"
   ]
  },
  {
   "cell_type": "markdown",
   "metadata": {},
   "source": [
    "**5. Given the list below:**\n",
    "\n",
    "Using merge sort and counting sort\n",
    "\n",
    "Determine which sorting algorithm is faster by counting the total number of steps for each algorithm"
   ]
  },
  {
   "cell_type": "code",
   "execution_count": 223,
   "metadata": {},
   "outputs": [
    {
     "name": "stdout",
     "output_type": "stream",
     "text": [
      "Counting sort is faster\n"
     ]
    }
   ],
   "source": [
    "data = [7, 5, 4, 3, 2, 5, 1, 8]\n",
    "\n",
    "merge_num_steps = mergeSort(data)\n",
    "\n",
    "counting_num_steps = countingSort(data)\n",
    "\n",
    "if merge_num_steps < counting_num_steps:\n",
    "    print(\"Merge sort is faster\")\n",
    "else:\n",
    "    print(\"Counting sort is faster\")"
   ]
  }
 ],
 "metadata": {
  "kernelspec": {
   "display_name": "Python 3",
   "language": "python",
   "name": "python3"
  },
  "language_info": {
   "codemirror_mode": {
    "name": "ipython",
    "version": 3
   },
   "file_extension": ".py",
   "mimetype": "text/x-python",
   "name": "python",
   "nbconvert_exporter": "python",
   "pygments_lexer": "ipython3",
   "version": "3.11.5"
  },
  "orig_nbformat": 4
 },
 "nbformat": 4,
 "nbformat_minor": 2
}
